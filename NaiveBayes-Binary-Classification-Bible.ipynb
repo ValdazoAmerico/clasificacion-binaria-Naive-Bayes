{
  "nbformat": 4,
  "nbformat_minor": 0,
  "metadata": {
    "colab": {
      "name": "Untitled2.ipynb",
      "provenance": [],
      "authorship_tag": "ABX9TyNpGqVDmEkFegYCQy6Up3pJ",
      "include_colab_link": true
    },
    "kernelspec": {
      "name": "python3",
      "display_name": "Python 3"
    },
    "language_info": {
      "name": "python"
    }
  },
  "cells": [
    {
      "cell_type": "markdown",
      "metadata": {
        "id": "view-in-github",
        "colab_type": "text"
      },
      "source": [
        "<a href=\"https://colab.research.google.com/github/ValdazoAmerico/clasificacion-binaria-Naive-Bayes/blob/main/NaiveBayes-Binary-Classification-Bible.ipynb\" target=\"_parent\"><img src=\"https://colab.research.google.com/assets/colab-badge.svg\" alt=\"Open In Colab\"/></a>"
      ]
    },
    {
      "cell_type": "code",
      "metadata": {
        "id": "LQyp00qeQRaM"
      },
      "source": [
        "import pandas as pd"
      ],
      "execution_count": 1,
      "outputs": []
    },
    {
      "cell_type": "code",
      "metadata": {
        "id": "Oi-p3wxYSEtZ"
      },
      "source": [
        "from sklearn.feature_extraction.text import CountVectorizer\n",
        "from sklearn.model_selection import train_test_split\n",
        "from sklearn.naive_bayes import MultinomialNB"
      ],
      "execution_count": 4,
      "outputs": []
    },
    {
      "cell_type": "code",
      "metadata": {
        "id": "O09KYooHSQpK"
      },
      "source": [
        "df = pd.read_csv('kjv_cleandata1.csv')"
      ],
      "execution_count": 35,
      "outputs": []
    },
    {
      "cell_type": "code",
      "metadata": {
        "colab": {
          "base_uri": "https://localhost:8080/",
          "height": 204
        },
        "id": "ARbAEQ_iSVWH",
        "outputId": "0cb5aef8-6208-4797-8372-2eef91bc28ac"
      },
      "source": [
        "df.head()"
      ],
      "execution_count": 6,
      "outputs": [
        {
          "output_type": "execute_result",
          "data": {
            "text/html": [
              "<div>\n",
              "<style scoped>\n",
              "    .dataframe tbody tr th:only-of-type {\n",
              "        vertical-align: middle;\n",
              "    }\n",
              "\n",
              "    .dataframe tbody tr th {\n",
              "        vertical-align: top;\n",
              "    }\n",
              "\n",
              "    .dataframe thead th {\n",
              "        text-align: right;\n",
              "    }\n",
              "</style>\n",
              "<table border=\"1\" class=\"dataframe\">\n",
              "  <thead>\n",
              "    <tr style=\"text-align: right;\">\n",
              "      <th></th>\n",
              "      <th>Unnamed: 0</th>\n",
              "      <th>id</th>\n",
              "      <th>book</th>\n",
              "      <th>chapter</th>\n",
              "      <th>verse</th>\n",
              "      <th>text</th>\n",
              "    </tr>\n",
              "  </thead>\n",
              "  <tbody>\n",
              "    <tr>\n",
              "      <th>0</th>\n",
              "      <td>0</td>\n",
              "      <td>1001001</td>\n",
              "      <td>Genesis</td>\n",
              "      <td>1</td>\n",
              "      <td>1</td>\n",
              "      <td>In the beginning God created the heaven and th...</td>\n",
              "    </tr>\n",
              "    <tr>\n",
              "      <th>1</th>\n",
              "      <td>1</td>\n",
              "      <td>1001002</td>\n",
              "      <td>Genesis</td>\n",
              "      <td>1</td>\n",
              "      <td>2</td>\n",
              "      <td>And the earth was without form, and void; and ...</td>\n",
              "    </tr>\n",
              "    <tr>\n",
              "      <th>2</th>\n",
              "      <td>2</td>\n",
              "      <td>1001003</td>\n",
              "      <td>Genesis</td>\n",
              "      <td>1</td>\n",
              "      <td>3</td>\n",
              "      <td>And God said, Let there be light: and there wa...</td>\n",
              "    </tr>\n",
              "    <tr>\n",
              "      <th>3</th>\n",
              "      <td>3</td>\n",
              "      <td>1001004</td>\n",
              "      <td>Genesis</td>\n",
              "      <td>1</td>\n",
              "      <td>4</td>\n",
              "      <td>And God saw the light, that it was good: and G...</td>\n",
              "    </tr>\n",
              "    <tr>\n",
              "      <th>4</th>\n",
              "      <td>4</td>\n",
              "      <td>1001005</td>\n",
              "      <td>Genesis</td>\n",
              "      <td>1</td>\n",
              "      <td>5</td>\n",
              "      <td>And God called the light Day, and the darkness...</td>\n",
              "    </tr>\n",
              "  </tbody>\n",
              "</table>\n",
              "</div>"
            ],
            "text/plain": [
              "   Unnamed: 0  ...                                               text\n",
              "0           0  ...  In the beginning God created the heaven and th...\n",
              "1           1  ...  And the earth was without form, and void; and ...\n",
              "2           2  ...  And God said, Let there be light: and there wa...\n",
              "3           3  ...  And God saw the light, that it was good: and G...\n",
              "4           4  ...  And God called the light Day, and the darkness...\n",
              "\n",
              "[5 rows x 6 columns]"
            ]
          },
          "metadata": {
            "tags": []
          },
          "execution_count": 6
        }
      ]
    },
    {
      "cell_type": "code",
      "metadata": {
        "colab": {
          "base_uri": "https://localhost:8080/"
        },
        "id": "6fF3M-18UJNY",
        "outputId": "c2e325f0-9ab6-47a3-f689-dd0633d3afad"
      },
      "source": [
        "df.columns"
      ],
      "execution_count": 9,
      "outputs": [
        {
          "output_type": "execute_result",
          "data": {
            "text/plain": [
              "Index(['Unnamed: 0', 'id', 'book', 'chapter', 'verse', 'text'], dtype='object')"
            ]
          },
          "metadata": {
            "tags": []
          },
          "execution_count": 9
        }
      ]
    },
    {
      "cell_type": "code",
      "metadata": {
        "colab": {
          "base_uri": "https://localhost:8080/"
        },
        "id": "fdM5vBPkUJg8",
        "outputId": "ced845e7-7b0d-47ce-d504-7c4413c56390"
      },
      "source": [
        "df.shape"
      ],
      "execution_count": 10,
      "outputs": [
        {
          "output_type": "execute_result",
          "data": {
            "text/plain": [
              "(31103, 6)"
            ]
          },
          "metadata": {
            "tags": []
          },
          "execution_count": 10
        }
      ]
    },
    {
      "cell_type": "code",
      "metadata": {
        "colab": {
          "base_uri": "https://localhost:8080/"
        },
        "id": "raBRmogmUNC_",
        "outputId": "2f8b221c-29f7-420e-c9f2-4915387cf9ca"
      },
      "source": [
        "df.isnull().sum()"
      ],
      "execution_count": 11,
      "outputs": [
        {
          "output_type": "execute_result",
          "data": {
            "text/plain": [
              "Unnamed: 0    0\n",
              "id            0\n",
              "book          0\n",
              "chapter       0\n",
              "verse         0\n",
              "text          0\n",
              "dtype: int64"
            ]
          },
          "metadata": {
            "tags": []
          },
          "execution_count": 11
        }
      ]
    },
    {
      "cell_type": "code",
      "metadata": {
        "colab": {
          "base_uri": "https://localhost:8080/"
        },
        "id": "c31rrKdvURac",
        "outputId": "3665a845-ce97-490e-95fa-2be9d587b546"
      },
      "source": [
        "df.text.str.len()"
      ],
      "execution_count": 12,
      "outputs": [
        {
          "output_type": "execute_result",
          "data": {
            "text/plain": [
              "0         54\n",
              "1        142\n",
              "2         54\n",
              "3         85\n",
              "4        115\n",
              "        ... \n",
              "31098    168\n",
              "31099    187\n",
              "31100    207\n",
              "31101     95\n",
              "31102     57\n",
              "Name: text, Length: 31103, dtype: int64"
            ]
          },
          "metadata": {
            "tags": []
          },
          "execution_count": 12
        }
      ]
    },
    {
      "cell_type": "code",
      "metadata": {
        "id": "vV6exohNUYcK"
      },
      "source": [
        "df2=df"
      ],
      "execution_count": 36,
      "outputs": []
    },
    {
      "cell_type": "code",
      "metadata": {
        "colab": {
          "base_uri": "https://localhost:8080/",
          "height": 204
        },
        "id": "iCpz9kG3U5V1",
        "outputId": "8a8cccb8-ccd6-45e8-bddb-195730799c19"
      },
      "source": [
        "df2.tail()"
      ],
      "execution_count": 38,
      "outputs": [
        {
          "output_type": "execute_result",
          "data": {
            "text/html": [
              "<div>\n",
              "<style scoped>\n",
              "    .dataframe tbody tr th:only-of-type {\n",
              "        vertical-align: middle;\n",
              "    }\n",
              "\n",
              "    .dataframe tbody tr th {\n",
              "        vertical-align: top;\n",
              "    }\n",
              "\n",
              "    .dataframe thead th {\n",
              "        text-align: right;\n",
              "    }\n",
              "</style>\n",
              "<table border=\"1\" class=\"dataframe\">\n",
              "  <thead>\n",
              "    <tr style=\"text-align: right;\">\n",
              "      <th></th>\n",
              "      <th>Unnamed: 0</th>\n",
              "      <th>id</th>\n",
              "      <th>book</th>\n",
              "      <th>chapter</th>\n",
              "      <th>verse</th>\n",
              "      <th>text</th>\n",
              "    </tr>\n",
              "  </thead>\n",
              "  <tbody>\n",
              "    <tr>\n",
              "      <th>31098</th>\n",
              "      <td>31098</td>\n",
              "      <td>66022017</td>\n",
              "      <td>Revelation</td>\n",
              "      <td>22</td>\n",
              "      <td>17</td>\n",
              "      <td>And the Spirit and the bride say, Come. And le...</td>\n",
              "    </tr>\n",
              "    <tr>\n",
              "      <th>31099</th>\n",
              "      <td>31099</td>\n",
              "      <td>66022018</td>\n",
              "      <td>Revelation</td>\n",
              "      <td>22</td>\n",
              "      <td>18</td>\n",
              "      <td>For I testify unto every man that heareth the ...</td>\n",
              "    </tr>\n",
              "    <tr>\n",
              "      <th>31100</th>\n",
              "      <td>31100</td>\n",
              "      <td>66022019</td>\n",
              "      <td>Revelation</td>\n",
              "      <td>22</td>\n",
              "      <td>19</td>\n",
              "      <td>And if any man shall take away from the words ...</td>\n",
              "    </tr>\n",
              "    <tr>\n",
              "      <th>31101</th>\n",
              "      <td>31101</td>\n",
              "      <td>66022020</td>\n",
              "      <td>Revelation</td>\n",
              "      <td>22</td>\n",
              "      <td>20</td>\n",
              "      <td>He which testifieth these things saith, Surely...</td>\n",
              "    </tr>\n",
              "    <tr>\n",
              "      <th>31102</th>\n",
              "      <td>31102</td>\n",
              "      <td>66022021</td>\n",
              "      <td>Revelation</td>\n",
              "      <td>22</td>\n",
              "      <td>21</td>\n",
              "      <td>The grace of our Lord Jesus Christ be with you...</td>\n",
              "    </tr>\n",
              "  </tbody>\n",
              "</table>\n",
              "</div>"
            ],
            "text/plain": [
              "       Unnamed: 0  ...                                               text\n",
              "31098       31098  ...  And the Spirit and the bride say, Come. And le...\n",
              "31099       31099  ...  For I testify unto every man that heareth the ...\n",
              "31100       31100  ...  And if any man shall take away from the words ...\n",
              "31101       31101  ...  He which testifieth these things saith, Surely...\n",
              "31102       31102  ...  The grace of our Lord Jesus Christ be with you...\n",
              "\n",
              "[5 rows x 6 columns]"
            ]
          },
          "metadata": {
            "tags": []
          },
          "execution_count": 38
        }
      ]
    },
    {
      "cell_type": "code",
      "metadata": {
        "colab": {
          "base_uri": "https://localhost:8080/"
        },
        "id": "3t5vvLIwU57u",
        "outputId": "974db253-2eae-4c37-98f5-c2b9b0327ddd"
      },
      "source": [
        "df2.loc[23144]"
      ],
      "execution_count": 31,
      "outputs": [
        {
          "output_type": "execute_result",
          "data": {
            "text/plain": [
              "Unnamed: 0                                                23144\n",
              "id                                                     39004006\n",
              "book                                                    Malachi\n",
              "chapter                                                       4\n",
              "verse                                                         6\n",
              "text          And he shall turn the heart of the fathers to ...\n",
              "label                                                         0\n",
              "Name: 23144, dtype: object"
            ]
          },
          "metadata": {
            "tags": []
          },
          "execution_count": 31
        }
      ]
    },
    {
      "cell_type": "code",
      "metadata": {
        "id": "9zNKX_ynVW4A"
      },
      "source": [
        "#old testament\n",
        "df2.loc[0:23144, 'label'] = 0"
      ],
      "execution_count": 39,
      "outputs": []
    },
    {
      "cell_type": "code",
      "metadata": {
        "id": "fieI3IJOVZnF"
      },
      "source": [
        "#new testament\n",
        "df2.loc[23145:,'label'] = 1"
      ],
      "execution_count": 40,
      "outputs": []
    },
    {
      "cell_type": "code",
      "metadata": {
        "colab": {
          "base_uri": "https://localhost:8080/"
        },
        "id": "WP06qXGjViv6",
        "outputId": "85870985-51f3-4a65-c930-39697d4bc2f5"
      },
      "source": [
        "df2.book.unique()"
      ],
      "execution_count": 68,
      "outputs": [
        {
          "output_type": "execute_result",
          "data": {
            "text/plain": [
              "array(['Genesis', 'Exodus', 'Leviticus', 'Numbers', 'Deuteronomy',\n",
              "       'Joshua', 'Judges', 'Ruth', '1 Samuel (1 Kings)',\n",
              "       '2 Samuel (2 Kings)', '1 Kings (3 Kings)', '2 Kings (4 Kings)',\n",
              "       '1 Chronicles', '2 Chronicles', 'Ezra', 'Nehemiah', 'Esther',\n",
              "       'Job', 'Psalms', 'Proverbs', 'Ecclesiastes',\n",
              "       'Song of Solomon (Canticles)', 'Isaiah', 'Jeremiah',\n",
              "       'Lamentations', 'Ezekiel', 'Daniel', 'Hosea', 'Joel', 'Amos',\n",
              "       'Obadiah', 'Jonah', 'Micah', 'Nahum', 'Habakkuk', 'Zephaniah',\n",
              "       'Haggai', 'Zechariah', 'Malachi', 'Matthew', 'Mark', 'Luke',\n",
              "       'John', 'Acts', 'Romans', '1 Corinthians', '2 Corinthians',\n",
              "       'Galatians', 'Ephesians', 'Philippians', 'Colossians',\n",
              "       '1 Thessalonians', '2 Thessalonians', '1 Timothy', '2 Timothy',\n",
              "       'Titus', 'Philemon', 'Hebrews', 'James', '1 Peter', '2 Peter',\n",
              "       '1 John', '2 John', '3 John', 'Jude', 'Revelation'], dtype=object)"
            ]
          },
          "metadata": {
            "tags": []
          },
          "execution_count": 68
        }
      ]
    },
    {
      "cell_type": "code",
      "metadata": {
        "colab": {
          "base_uri": "https://localhost:8080/",
          "height": 204
        },
        "id": "J8VOdlK3VjVa",
        "outputId": "dff145db-4e5b-460f-e614-1874346dbfd8"
      },
      "source": [
        "df2.tail()"
      ],
      "execution_count": 41,
      "outputs": [
        {
          "output_type": "execute_result",
          "data": {
            "text/html": [
              "<div>\n",
              "<style scoped>\n",
              "    .dataframe tbody tr th:only-of-type {\n",
              "        vertical-align: middle;\n",
              "    }\n",
              "\n",
              "    .dataframe tbody tr th {\n",
              "        vertical-align: top;\n",
              "    }\n",
              "\n",
              "    .dataframe thead th {\n",
              "        text-align: right;\n",
              "    }\n",
              "</style>\n",
              "<table border=\"1\" class=\"dataframe\">\n",
              "  <thead>\n",
              "    <tr style=\"text-align: right;\">\n",
              "      <th></th>\n",
              "      <th>Unnamed: 0</th>\n",
              "      <th>id</th>\n",
              "      <th>book</th>\n",
              "      <th>chapter</th>\n",
              "      <th>verse</th>\n",
              "      <th>text</th>\n",
              "      <th>label</th>\n",
              "    </tr>\n",
              "  </thead>\n",
              "  <tbody>\n",
              "    <tr>\n",
              "      <th>31098</th>\n",
              "      <td>31098</td>\n",
              "      <td>66022017</td>\n",
              "      <td>Revelation</td>\n",
              "      <td>22</td>\n",
              "      <td>17</td>\n",
              "      <td>And the Spirit and the bride say, Come. And le...</td>\n",
              "      <td>1.0</td>\n",
              "    </tr>\n",
              "    <tr>\n",
              "      <th>31099</th>\n",
              "      <td>31099</td>\n",
              "      <td>66022018</td>\n",
              "      <td>Revelation</td>\n",
              "      <td>22</td>\n",
              "      <td>18</td>\n",
              "      <td>For I testify unto every man that heareth the ...</td>\n",
              "      <td>1.0</td>\n",
              "    </tr>\n",
              "    <tr>\n",
              "      <th>31100</th>\n",
              "      <td>31100</td>\n",
              "      <td>66022019</td>\n",
              "      <td>Revelation</td>\n",
              "      <td>22</td>\n",
              "      <td>19</td>\n",
              "      <td>And if any man shall take away from the words ...</td>\n",
              "      <td>1.0</td>\n",
              "    </tr>\n",
              "    <tr>\n",
              "      <th>31101</th>\n",
              "      <td>31101</td>\n",
              "      <td>66022020</td>\n",
              "      <td>Revelation</td>\n",
              "      <td>22</td>\n",
              "      <td>20</td>\n",
              "      <td>He which testifieth these things saith, Surely...</td>\n",
              "      <td>1.0</td>\n",
              "    </tr>\n",
              "    <tr>\n",
              "      <th>31102</th>\n",
              "      <td>31102</td>\n",
              "      <td>66022021</td>\n",
              "      <td>Revelation</td>\n",
              "      <td>22</td>\n",
              "      <td>21</td>\n",
              "      <td>The grace of our Lord Jesus Christ be with you...</td>\n",
              "      <td>1.0</td>\n",
              "    </tr>\n",
              "  </tbody>\n",
              "</table>\n",
              "</div>"
            ],
            "text/plain": [
              "       Unnamed: 0  ...  label\n",
              "31098       31098  ...    1.0\n",
              "31099       31099  ...    1.0\n",
              "31100       31100  ...    1.0\n",
              "31101       31101  ...    1.0\n",
              "31102       31102  ...    1.0\n",
              "\n",
              "[5 rows x 7 columns]"
            ]
          },
          "metadata": {
            "tags": []
          },
          "execution_count": 41
        }
      ]
    },
    {
      "cell_type": "code",
      "metadata": {
        "id": "5_KU222FVn9T"
      },
      "source": [
        "#Feature extraction\n",
        "Xfeatures = df2.text\n",
        "y = df2.label\n"
      ],
      "execution_count": 43,
      "outputs": []
    },
    {
      "cell_type": "code",
      "metadata": {
        "id": "WOoFhEhBWHUb"
      },
      "source": [
        "#Vectorizacion\n",
        "\n",
        "cv = CountVectorizer()\n",
        "X = cv.fit_transform(Xfeatures)"
      ],
      "execution_count": 44,
      "outputs": []
    },
    {
      "cell_type": "code",
      "metadata": {
        "colab": {
          "base_uri": "https://localhost:8080/"
        },
        "id": "IVyBDviMWXfn",
        "outputId": "0c0d18b6-b9c5-4bcc-b5c2-943674023ef7"
      },
      "source": [
        "X"
      ],
      "execution_count": 45,
      "outputs": [
        {
          "output_type": "execute_result",
          "data": {
            "text/plain": [
              "<31103x12590 sparse matrix of type '<class 'numpy.int64'>'\n",
              "\twith 602576 stored elements in Compressed Sparse Row format>"
            ]
          },
          "metadata": {
            "tags": []
          },
          "execution_count": 45
        }
      ]
    },
    {
      "cell_type": "code",
      "metadata": {
        "id": "j5mxu6FvWX0q"
      },
      "source": [
        "X_train, X_test, y_train, y_test = train_test_split(X, y, test_size=0.33,random_state=42)"
      ],
      "execution_count": 48,
      "outputs": []
    },
    {
      "cell_type": "code",
      "metadata": {
        "id": "Z768AdYhWZWg"
      },
      "source": [
        "from sklearn.naive_bayes import MultinomialNB"
      ],
      "execution_count": 49,
      "outputs": []
    },
    {
      "cell_type": "code",
      "metadata": {
        "colab": {
          "base_uri": "https://localhost:8080/"
        },
        "id": "jqhX4b13Wpq_",
        "outputId": "a19175ad-3562-4c86-8ef6-56fb0aac67f8"
      },
      "source": [
        "clf = MultinomialNB()\n",
        "clf.fit(X_train,y_train)"
      ],
      "execution_count": 51,
      "outputs": [
        {
          "output_type": "execute_result",
          "data": {
            "text/plain": [
              "MultinomialNB(alpha=1.0, class_prior=None, fit_prior=True)"
            ]
          },
          "metadata": {
            "tags": []
          },
          "execution_count": 51
        }
      ]
    },
    {
      "cell_type": "code",
      "metadata": {
        "colab": {
          "base_uri": "https://localhost:8080/"
        },
        "id": "IHjfYxZoW9ne",
        "outputId": "24a0b582-9429-4be0-fca7-b2e51e35b774"
      },
      "source": [
        "clf.score(X_train,y_train)"
      ],
      "execution_count": 53,
      "outputs": [
        {
          "output_type": "execute_result",
          "data": {
            "text/plain": [
              "0.9361773597581458"
            ]
          },
          "metadata": {
            "tags": []
          },
          "execution_count": 53
        }
      ]
    },
    {
      "cell_type": "code",
      "metadata": {
        "colab": {
          "base_uri": "https://localhost:8080/"
        },
        "id": "cANiM5kkrwWr",
        "outputId": "451bc877-29d7-45df-d0ca-87151a8e117d"
      },
      "source": [
        "clf.score(X_test,y_test)"
      ],
      "execution_count": 55,
      "outputs": [
        {
          "output_type": "execute_result",
          "data": {
            "text/plain": [
              "0.9158222915042868"
            ]
          },
          "metadata": {
            "tags": []
          },
          "execution_count": 55
        }
      ]
    },
    {
      "cell_type": "code",
      "metadata": {
        "id": "7VMcaBZgr2Ci"
      },
      "source": [
        "#Predicting a test"
      ],
      "execution_count": 56,
      "outputs": []
    },
    {
      "cell_type": "code",
      "metadata": {
        "id": "mkNQHYTnr7yw"
      },
      "source": [
        "sample_verse2 = ['Fear thou not; for I am with thee: be not dismayed; for I am thy God: I will strength']"
      ],
      "execution_count": 58,
      "outputs": []
    },
    {
      "cell_type": "code",
      "metadata": {
        "id": "9FXxWPsAsHRE"
      },
      "source": [
        "sample_verse = ['Whetever therefore ye eat, or drink, or whatsoever ye do, do all to the glory of God']"
      ],
      "execution_count": 59,
      "outputs": []
    },
    {
      "cell_type": "code",
      "metadata": {
        "id": "06nbZrLfsgSO"
      },
      "source": [
        "vect = cv.transform(sample_verse2).toarray()"
      ],
      "execution_count": 69,
      "outputs": []
    },
    {
      "cell_type": "code",
      "metadata": {
        "colab": {
          "base_uri": "https://localhost:8080/"
        },
        "id": "iEyJ2OXRspFI",
        "outputId": "009b3d94-c740-4c27-cdf2-b49233f0731f"
      },
      "source": [
        "vect"
      ],
      "execution_count": 70,
      "outputs": [
        {
          "output_type": "execute_result",
          "data": {
            "text/plain": [
              "array([[0, 0, 0, ..., 0, 0, 0]])"
            ]
          },
          "metadata": {
            "tags": []
          },
          "execution_count": 70
        }
      ]
    },
    {
      "cell_type": "code",
      "metadata": {
        "colab": {
          "base_uri": "https://localhost:8080/"
        },
        "id": "lGc11KSCsq8v",
        "outputId": "d754ddea-a176-4a6c-cc25-ea8cd827788a"
      },
      "source": [
        "clf.predict(vect)"
      ],
      "execution_count": 71,
      "outputs": [
        {
          "output_type": "execute_result",
          "data": {
            "text/plain": [
              "array([0.])"
            ]
          },
          "metadata": {
            "tags": []
          },
          "execution_count": 71
        }
      ]
    },
    {
      "cell_type": "code",
      "metadata": {
        "id": "hdQGTPrGssnL"
      },
      "source": [
        "#Save model"
      ],
      "execution_count": 72,
      "outputs": []
    },
    {
      "cell_type": "code",
      "metadata": {
        "colab": {
          "base_uri": "https://localhost:8080/"
        },
        "id": "EdjN-X81tSwT",
        "outputId": "d7602bd7-3e7c-41a8-c95b-db887f4f250d"
      },
      "source": [
        "from sklearn.externals import joblib\n"
      ],
      "execution_count": 73,
      "outputs": [
        {
          "output_type": "stream",
          "text": [
            "/usr/local/lib/python3.7/dist-packages/sklearn/externals/joblib/__init__.py:15: FutureWarning: sklearn.externals.joblib is deprecated in 0.21 and will be removed in 0.23. Please import this functionality directly from joblib, which can be installed with: pip install joblib. If this warning is raised when loading pickled models, you may need to re-serialize those models with scikit-learn 0.21+.\n",
            "  warnings.warn(msg, category=FutureWarning)\n"
          ],
          "name": "stderr"
        }
      ]
    },
    {
      "cell_type": "code",
      "metadata": {
        "id": "7EZqzJActUp8"
      },
      "source": [
        "biblePrediction_model = open(\"bibleversePredictor_nv_model.pkl\",\"wb\")\n",
        "joblib.dump(clf,biblePrediction_model)"
      ],
      "execution_count": 74,
      "outputs": []
    },
    {
      "cell_type": "code",
      "metadata": {
        "id": "GVDBPzyjtdZW"
      },
      "source": [
        "biblePrediction_model.close()"
      ],
      "execution_count": 75,
      "outputs": []
    },
    {
      "cell_type": "code",
      "metadata": {
        "id": "6GN4Eezhtewg"
      },
      "source": [
        ""
      ],
      "execution_count": null,
      "outputs": []
    }
  ]
}